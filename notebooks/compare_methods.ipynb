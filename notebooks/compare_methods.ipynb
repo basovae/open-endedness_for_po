{
 "cells": [
  {
   "cell_type": "code",
   "execution_count": null,
   "id": "24b049f3",
   "metadata": {
    "vscode": {
     "languageId": "plaintext"
    }
   },
   "outputs": [],
   "source": [
    "from core.runner import run_experiment\n",
    "import pandas as pd\n",
    "\n",
    "methods = [\n",
    "    \"configs/mvp.yaml\",\n",
    "    \"configs/lstm.yaml\",\n",
    "    \"configs/ddpg.yaml\",\n",
    "    \"configs/qd_ddpg.yaml\"\n",
    "]\n",
    "\n",
    "results = [run_experiment(cfg) for cfg in methods]\n",
    "pd.DataFrame(results)"
   ]
  }
 ],
 "metadata": {
  "language_info": {
   "name": "python"
  }
 },
 "nbformat": 4,
 "nbformat_minor": 5
}
